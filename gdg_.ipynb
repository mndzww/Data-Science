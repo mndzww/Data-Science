{
 "cells": [
  {
   "cell_type": "markdown",
   "id": "3d847037",
   "metadata": {},
   "source": [
    "<h1 align=\"center\"><b>Asesment test : Artificial Intelligence GDGOC-ITB</b></h1>"
   ]
  },
  {
   "cell_type": "markdown",
   "id": "e844b702",
   "metadata": {},
   "source": [
    "##### Nama : M. Naufaldi Dzakwan \n",
    "##### Asal Kampus : Universitas Padjadjaran"
   ]
  },
  {
   "cell_type": "code",
   "execution_count": null,
   "id": "5b41f663",
   "metadata": {},
   "outputs": [
    {
     "name": "stdout",
     "output_type": "stream",
     "text": [
      "Data Nilai Mahasiswa:\n",
      "|   NIM | Nama   |   Intelegensi Buatan |   Jaringan Komputer |   Basis Data |\n",
      "|------:|:-------|---------------------:|--------------------:|-------------:|\n",
      "|   001 | Andi   |                   85 |                  78 |           90 |\n",
      "|   002 | Budi   |                   76 |                  82 |           85 |\n",
      "|   003 | Citra  |                  nan |                  85 |           88 |\n",
      "|   004 | Dewi   |                   90 |                  75 |          nan |\n",
      "|   005 | Eka    |                   82 |                  88 |           92 |\n",
      "\n",
      "\n",
      "Rata-rata nilai mata kuliah Intelegensi Buatan: 83.25\n"
     ]
    }
   ],
   "source": [
    "import pandas as pd\n",
    "import numpy as np\n",
    "\n",
    "#dataFrame tabel soal\n",
    "data = {\n",
    "    'NIM': ['001', '002', '003', '004', '005'],\n",
    "    'Nama': ['Andi', 'Budi', 'Citra', 'Dewi', 'Eka'],\n",
    "    'Intelegensi Buatan': [85, 76, np.nan, 90, 82],\n",
    "    'Jaringan Komputer': [78, 82, 85, 75, 88],\n",
    "    'Basis Data': [90, 85, 88, np.nan, 92]\n",
    "}\n",
    "\n",
    "df = pd.DataFrame(data)\n",
    "\n",
    "# Menampilkan tabel datanya\n",
    "print(\"Data Nilai Mahasiswa:\")\n",
    "print(df.to_markdown(index=False))\n",
    "print(\"\\n\")\n",
    "\n",
    "# Alternatif: bisa juga menggunakan fillna() jika ingin mengganti nilai yang hilang\n",
    "df['Intelegensi Buatan'].fillna(0).mean()\n",
    "\n",
    "# Menghitung rata-rata untuk nilai Intelegensi Buatan\n",
    "rata_ai = df['Intelegensi Buatan'].mean() #sudah default dengan .mean() untuk data yg NaN\n",
    "\n",
    "# Menampilkan rata-rata nilainyya\n",
    "print(f\"Rata-rata nilai mata kuliah Intelegensi Buatan: {rata_ai:.2f}\")"
   ]
  }
 ],
 "metadata": {
  "kernelspec": {
   "display_name": "Python 3",
   "language": "python",
   "name": "python3"
  },
  "language_info": {
   "codemirror_mode": {
    "name": "ipython",
    "version": 3
   },
   "file_extension": ".py",
   "mimetype": "text/x-python",
   "name": "python",
   "nbconvert_exporter": "python",
   "pygments_lexer": "ipython3",
   "version": "3.11.4"
  }
 },
 "nbformat": 4,
 "nbformat_minor": 5
}
